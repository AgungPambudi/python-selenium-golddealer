{
 "cells": [
  {
   "cell_type": "code",
   "execution_count": 32,
   "metadata": {},
   "outputs": [],
   "source": [
    "import csv\n",
    "import ssl\n",
    "import time\n",
    "from selenium import webdriver \n",
    "from selenium.webdriver.common.keys import Keys\n",
    "from apscheduler.schedulers.background import BackgroundScheduler\n",
    "from apscheduler.triggers.cron import CronTrigger"
   ]
  },
  {
   "cell_type": "markdown",
   "metadata": {},
   "source": [
    "#author          : Agung Pambudi\n",
    "#email           : mail@agungpambudi.com\n",
    "#linkedin        : http://linkedin.com/in/agungpambudi\n",
    "#version         : 0.4\n",
    "#\n",
    "#\n",
    "#==============================================================================\n",
    "#                                   _         _ _\n",
    "# ___ ___ _ _ ___ ___ ___ ___ _____| |_ _ _ _| |_|  ___ ___ _____\n",
    "#| .'| . | | |   | . | . | .'|     | . | | | . | |_|  _| . |     |\n",
    "#|__,|_  |___|_|_|_  |  _|__,|_|_|_|___|___|___|_|_|___|___|_|_|_|\n",
    "#    |___|       |___|_|\n",
    "\n"
   ]
  },
  {
   "cell_type": "markdown",
   "metadata": {},
   "source": [
    "Ignore SSL certificate errors"
   ]
  },
  {
   "cell_type": "code",
   "execution_count": 151,
   "metadata": {},
   "outputs": [
    {
     "name": "stderr",
     "output_type": "stream",
     "text": [
      "C:\\Users\\HP\\AppData\\Local\\Temp/ipykernel_25528/877231599.py:10: DeprecationWarning: executable_path has been deprecated, please pass in a Service object\n",
      "  chrome = webdriver.Chrome(\"C:\\Applications\\chromedriver_win32\\chromedriver\", options=options)\n"
     ]
    }
   ],
   "source": [
    "ctx = ssl.create_default_context()\n",
    "ctx.check_hostname = False\n",
    "ctx.verify_mode = ssl.CERT_NONE\n",
    "\n",
    "#chrome settings\n",
    "\n",
    "PROXY_STR = \"154.49.216.33:3128\"\n",
    "options = webdriver.ChromeOptions()\n",
    "options.add_argument('--proxy-server=%s' % PROXY_STR)\n",
    "chrome = webdriver.Chrome(\"C:\\Applications\\chromedriver_win32\\chromedriver\", options=options)\n",
    "#function for gold price\n",
    "\n",
    "def silver_price():\n",
    "    chrome.get(\"https://www.golddealer.com/product-category/products-2/bullion/silver-bullion-coins-bars/?orderby=price-desc\")\n",
    "    time.sleep(10)\n",
    "    chrome.execute_script(\"window.scrollTo(0, document.body.scrollHeight);var lenOfPage=document.body.scrollHeight;return lenOfPage;\")\n",
    "   \n",
    "    data = list()\n",
    "    silver = {}\n",
    "\n",
    "    results = chrome.find_elements_by_xpath('//*[@id=\"content\"]/div[2]/p')\n",
    "    r = results[0].text.split()\n",
    "    for k in range(int(r[2])):\n",
    "        \n",
    "        if k == 10 or k==19:\n",
    "            title = chrome.find_elements_by_xpath('//*[@id=\"content\"]/ul/li['+ str(k+1) +']/a/h2')\n",
    "            buyprice = chrome.find_elements_by_xpath('//*[@id=\"content\"]/ul/li['+ str(k+1) +']/a/span[2]')\n",
    "            price = chrome.find_elements_by_xpath('//*[@id=\"content\"]/ul/li['+ str(k+1) +']/a/span[3]')\n",
    "            data = [title[0].text, buyprice[0].text, price[0].text]\n",
    "            silver[k] = data\n",
    "            \n",
    "        elif (k >=13 and k <=17) or (k >=28 and k <=32):\n",
    "            \n",
    "            title = chrome.find_elements_by_xpath('//*[@id=\"content\"]/ul/li['+ str(k+1) +']/a/h2')\n",
    "            buyprice = chrome.find_elements_by_xpath('//*[@id=\"content\"]/ul/li['+ str(k+1) +']/a/span[2]')\n",
    "            price = chrome.find_elements_by_xpath('//*[@id=\"content\"]/ul/li['+ str(k+1) +']/a/span[3]')\n",
    "            data = [title[0].text, buyprice[0].text, price[0].text]\n",
    "            silver[k] = data\n",
    "            \n",
    "        else:\n",
    "            \n",
    "            title = chrome.find_elements_by_xpath('//*[@id=\"content\"]/ul/li['+ str(k+1) +']/a/h2')\n",
    "            buyprice = chrome.find_elements_by_xpath('//*[@id=\"content\"]/ul/li['+ str(k+1) +']/a/span[1]')\n",
    "            price = chrome.find_elements_by_xpath('//*[@id=\"content\"]/ul/li['+ str(k+1) +']/a/span[2]')\n",
    "            data = [title[0].text, buyprice[0].text, price[0].text]\n",
    "            silver[k] = data\n",
    "    \n",
    "            \n",
    "    #create a dataframe and csv file\n",
    "    import pandas as pd\n",
    "    df = pd.DataFrame(columns=['Title', 'Buy Price', 'Price'])\n",
    "    for i in range(len(silver)):\n",
    "        df.loc[i,:] = silver[i]\n",
    "\n",
    "    with open('silver_price.csv', 'w') as csvfile:\n",
    "        df.to_csv('silver_price.csv')"
   ]
  },
  {
   "cell_type": "code",
   "execution_count": 152,
   "metadata": {},
   "outputs": [
    {
     "name": "stderr",
     "output_type": "stream",
     "text": [
      "C:\\Users\\HP\\AppData\\Local\\Temp/ipykernel_25528/877231599.py:21: DeprecationWarning: find_elements_by_xpath is deprecated. Please use find_elements(by=By.XPATH, value=xpath) instead\n",
      "  results = chrome.find_elements_by_xpath('//*[@id=\"content\"]/div[2]/p')\n",
      "C:\\Users\\HP\\AppData\\Local\\Temp/ipykernel_25528/877231599.py:42: DeprecationWarning: find_elements_by_xpath is deprecated. Please use find_elements(by=By.XPATH, value=xpath) instead\n",
      "  title = chrome.find_elements_by_xpath('//*[@id=\"content\"]/ul/li['+ str(k+1) +']/a/h2')\n",
      "C:\\Users\\HP\\AppData\\Local\\Temp/ipykernel_25528/877231599.py:43: DeprecationWarning: find_elements_by_xpath is deprecated. Please use find_elements(by=By.XPATH, value=xpath) instead\n",
      "  buyprice = chrome.find_elements_by_xpath('//*[@id=\"content\"]/ul/li['+ str(k+1) +']/a/span[1]')\n",
      "C:\\Users\\HP\\AppData\\Local\\Temp/ipykernel_25528/877231599.py:44: DeprecationWarning: find_elements_by_xpath is deprecated. Please use find_elements(by=By.XPATH, value=xpath) instead\n",
      "  price = chrome.find_elements_by_xpath('//*[@id=\"content\"]/ul/li['+ str(k+1) +']/a/span[2]')\n",
      "C:\\Users\\HP\\AppData\\Local\\Temp/ipykernel_25528/877231599.py:26: DeprecationWarning: find_elements_by_xpath is deprecated. Please use find_elements(by=By.XPATH, value=xpath) instead\n",
      "  title = chrome.find_elements_by_xpath('//*[@id=\"content\"]/ul/li['+ str(k+1) +']/a/h2')\n",
      "C:\\Users\\HP\\AppData\\Local\\Temp/ipykernel_25528/877231599.py:27: DeprecationWarning: find_elements_by_xpath is deprecated. Please use find_elements(by=By.XPATH, value=xpath) instead\n",
      "  buyprice = chrome.find_elements_by_xpath('//*[@id=\"content\"]/ul/li['+ str(k+1) +']/a/span[2]')\n",
      "C:\\Users\\HP\\AppData\\Local\\Temp/ipykernel_25528/877231599.py:28: DeprecationWarning: find_elements_by_xpath is deprecated. Please use find_elements(by=By.XPATH, value=xpath) instead\n",
      "  price = chrome.find_elements_by_xpath('//*[@id=\"content\"]/ul/li['+ str(k+1) +']/a/span[3]')\n",
      "C:\\Users\\HP\\AppData\\Local\\Temp/ipykernel_25528/877231599.py:34: DeprecationWarning: find_elements_by_xpath is deprecated. Please use find_elements(by=By.XPATH, value=xpath) instead\n",
      "  title = chrome.find_elements_by_xpath('//*[@id=\"content\"]/ul/li['+ str(k+1) +']/a/h2')\n",
      "C:\\Users\\HP\\AppData\\Local\\Temp/ipykernel_25528/877231599.py:35: DeprecationWarning: find_elements_by_xpath is deprecated. Please use find_elements(by=By.XPATH, value=xpath) instead\n",
      "  buyprice = chrome.find_elements_by_xpath('//*[@id=\"content\"]/ul/li['+ str(k+1) +']/a/span[2]')\n",
      "C:\\Users\\HP\\AppData\\Local\\Temp/ipykernel_25528/877231599.py:36: DeprecationWarning: find_elements_by_xpath is deprecated. Please use find_elements(by=By.XPATH, value=xpath) instead\n",
      "  price = chrome.find_elements_by_xpath('//*[@id=\"content\"]/ul/li['+ str(k+1) +']/a/span[3]')\n"
     ]
    }
   ],
   "source": [
    "#this will trigger the job on a specific time\n",
    "\n",
    "sched = BackgroundScheduler()\n",
    "              \n",
    "trigger = CronTrigger(\n",
    "    year=\"*\", month=\"*\", \n",
    "    day=\"*\", hour=\"2\",             #you can adjust the time here for silver price trigger \n",
    "    minute=\"18\", second=\"0\"         \n",
    ")\n",
    "\n",
    "sched.add_job(\n",
    "    silver_price,\n",
    "    trigger=trigger,\n",
    ")\n",
    "\n",
    "sched.start()"
   ]
  },
  {
   "cell_type": "code",
   "execution_count": null,
   "metadata": {},
   "outputs": [],
   "source": [
    "\n",
    "    "
   ]
  },
  {
   "cell_type": "code",
   "execution_count": null,
   "metadata": {},
   "outputs": [],
   "source": []
  },
  {
   "cell_type": "code",
   "execution_count": 139,
   "metadata": {},
   "outputs": [
    {
     "name": "stdout",
     "output_type": "stream",
     "text": [
      "Current Time = 01:30:08\n"
     ]
    }
   ],
   "source": [
    "from datetime import datetime\n",
    "\n",
    "now = datetime.now()\n",
    "\n",
    "current_time = now.strftime(\"%H:%M:%S\")\n",
    "print(\"Current Time =\", current_time)"
   ]
  },
  {
   "cell_type": "code",
   "execution_count": null,
   "metadata": {},
   "outputs": [],
   "source": []
  },
  {
   "cell_type": "code",
   "execution_count": null,
   "metadata": {},
   "outputs": [],
   "source": []
  },
  {
   "cell_type": "code",
   "execution_count": null,
   "metadata": {},
   "outputs": [],
   "source": []
  },
  {
   "cell_type": "markdown",
   "metadata": {},
   "source": []
  },
  {
   "cell_type": "code",
   "execution_count": null,
   "metadata": {},
   "outputs": [],
   "source": [
    "\n"
   ]
  },
  {
   "cell_type": "code",
   "execution_count": null,
   "metadata": {},
   "outputs": [],
   "source": [
    "\n",
    "          \n",
    "                   \n",
    "           \n",
    "    "
   ]
  },
  {
   "cell_type": "code",
   "execution_count": null,
   "metadata": {},
   "outputs": [],
   "source": []
  },
  {
   "cell_type": "code",
   "execution_count": null,
   "metadata": {},
   "outputs": [],
   "source": []
  }
 ],
 "metadata": {
  "kernelspec": {
   "display_name": "Python 3.9.7 64-bit",
   "language": "python",
   "name": "python3"
  },
  "language_info": {
   "codemirror_mode": {
    "name": "ipython",
    "version": 3
   },
   "file_extension": ".py",
   "mimetype": "text/x-python",
   "name": "python",
   "nbconvert_exporter": "python",
   "pygments_lexer": "ipython3",
   "version": "3.9.7"
  },
  "vscode": {
   "interpreter": {
    "hash": "81794d4967e6c3204c66dcd87b604927b115b27c00565d3d43f05ba2f3a2cb0d"
   }
  }
 },
 "nbformat": 4,
 "nbformat_minor": 4
}
